{
  "nbformat": 4,
  "nbformat_minor": 0,
  "metadata": {
    "colab": {
      "name": "Problem2.ipynb",
      "provenance": [],
      "authorship_tag": "ABX9TyPEcpmBMeXSw0sPqByxd9Ns",
      "include_colab_link": true
    },
    "kernelspec": {
      "name": "python3",
      "display_name": "Python 3"
    }
  },
  "cells": [
    {
      "cell_type": "markdown",
      "metadata": {
        "id": "view-in-github",
        "colab_type": "text"
      },
      "source": [
        "<a href=\"https://colab.research.google.com/github/seansothey/NoSQL-BigData/blob/master/Problem2.ipynb\" target=\"_parent\"><img src=\"https://colab.research.google.com/assets/colab-badge.svg\" alt=\"Open In Colab\"/></a>"
      ]
    },
    {
      "cell_type": "markdown",
      "metadata": {
        "id": "ZHMIYGs82Iki"
      },
      "source": [
        "##Generate a new table that displays the name of the student, their average grade, and the number of grades they had in their record."
      ]
    },
    {
      "cell_type": "markdown",
      "metadata": {
        "id": "fx0Z7L1k1_2-"
      },
      "source": [
        "##Given Code"
      ]
    },
    {
      "cell_type": "code",
      "metadata": {
        "id": "YtaE5wWeYQ-S",
        "outputId": "992a3d51-387c-4a77-b548-c067c4a062a9",
        "colab": {
          "base_uri": "https://localhost:8080/",
          "height": 354
        }
      },
      "source": [
        "import numpy as np\n",
        "import pandas as pd\n",
        "\n",
        "np.random.seed(seed=0)\n",
        "\n",
        "Students = ['Samir', 'Mark', 'Zoe', 'Andrew', 'Rupert']\n",
        "Grades_Data = []\n",
        "for i in range(100):\n",
        "    Student_Index = np.random.randint(0, len(Students))\n",
        "    Student = Students[Student_Index]\n",
        "    Grade = round(np.random.normal(loc=75, scale=15), 1)\n",
        "    Grades_Data.append([Student, Grade])\n",
        "\n",
        "Grades_df = pd.DataFrame(data=Grades_Data, columns=['Student', 'Grade'])\n",
        "Grades_df.iloc[0:10]"
      ],
      "execution_count": 9,
      "outputs": [
        {
          "output_type": "execute_result",
          "data": {
            "text/html": [
              "<div>\n",
              "<style scoped>\n",
              "    .dataframe tbody tr th:only-of-type {\n",
              "        vertical-align: middle;\n",
              "    }\n",
              "\n",
              "    .dataframe tbody tr th {\n",
              "        vertical-align: top;\n",
              "    }\n",
              "\n",
              "    .dataframe thead th {\n",
              "        text-align: right;\n",
              "    }\n",
              "</style>\n",
              "<table border=\"1\" class=\"dataframe\">\n",
              "  <thead>\n",
              "    <tr style=\"text-align: right;\">\n",
              "      <th></th>\n",
              "      <th>Student</th>\n",
              "      <th>Grade</th>\n",
              "    </tr>\n",
              "  </thead>\n",
              "  <tbody>\n",
              "    <tr>\n",
              "      <th>0</th>\n",
              "      <td>Rupert</td>\n",
              "      <td>91.8</td>\n",
              "    </tr>\n",
              "    <tr>\n",
              "      <th>1</th>\n",
              "      <td>Andrew</td>\n",
              "      <td>79.5</td>\n",
              "    </tr>\n",
              "    <tr>\n",
              "      <th>2</th>\n",
              "      <td>Andrew</td>\n",
              "      <td>80.6</td>\n",
              "    </tr>\n",
              "    <tr>\n",
              "      <th>3</th>\n",
              "      <td>Zoe</td>\n",
              "      <td>90.6</td>\n",
              "    </tr>\n",
              "    <tr>\n",
              "      <th>4</th>\n",
              "      <td>Rupert</td>\n",
              "      <td>70.6</td>\n",
              "    </tr>\n",
              "    <tr>\n",
              "      <th>5</th>\n",
              "      <td>Rupert</td>\n",
              "      <td>73.0</td>\n",
              "    </tr>\n",
              "    <tr>\n",
              "      <th>6</th>\n",
              "      <td>Zoe</td>\n",
              "      <td>95.5</td>\n",
              "    </tr>\n",
              "    <tr>\n",
              "      <th>7</th>\n",
              "      <td>Samir</td>\n",
              "      <td>73.5</td>\n",
              "    </tr>\n",
              "    <tr>\n",
              "      <th>8</th>\n",
              "      <td>Mark</td>\n",
              "      <td>82.3</td>\n",
              "    </tr>\n",
              "    <tr>\n",
              "      <th>9</th>\n",
              "      <td>Samir</td>\n",
              "      <td>83.7</td>\n",
              "    </tr>\n",
              "  </tbody>\n",
              "</table>\n",
              "</div>"
            ],
            "text/plain": [
              "  Student  Grade\n",
              "0  Rupert   91.8\n",
              "1  Andrew   79.5\n",
              "2  Andrew   80.6\n",
              "3     Zoe   90.6\n",
              "4  Rupert   70.6\n",
              "5  Rupert   73.0\n",
              "6     Zoe   95.5\n",
              "7   Samir   73.5\n",
              "8    Mark   82.3\n",
              "9   Samir   83.7"
            ]
          },
          "metadata": {
            "tags": []
          },
          "execution_count": 9
        }
      ]
    },
    {
      "cell_type": "markdown",
      "metadata": {
        "id": "BGMuvkF91io9"
      },
      "source": [
        "## Quick Solution"
      ]
    },
    {
      "cell_type": "code",
      "metadata": {
        "id": "VlYflmRB1hCo",
        "outputId": "6e599043-6363-485f-c01b-ac706e65936a",
        "colab": {
          "base_uri": "https://localhost:8080/",
          "height": 262
        }
      },
      "source": [
        "result = Grades_df[['Student', 'Grade']].groupby('Student').agg(['count', 'mean'])\n",
        "result"
      ],
      "execution_count": 10,
      "outputs": [
        {
          "output_type": "execute_result",
          "data": {
            "text/html": [
              "<div>\n",
              "<style scoped>\n",
              "    .dataframe tbody tr th:only-of-type {\n",
              "        vertical-align: middle;\n",
              "    }\n",
              "\n",
              "    .dataframe tbody tr th {\n",
              "        vertical-align: top;\n",
              "    }\n",
              "\n",
              "    .dataframe thead tr th {\n",
              "        text-align: left;\n",
              "    }\n",
              "\n",
              "    .dataframe thead tr:last-of-type th {\n",
              "        text-align: right;\n",
              "    }\n",
              "</style>\n",
              "<table border=\"1\" class=\"dataframe\">\n",
              "  <thead>\n",
              "    <tr>\n",
              "      <th></th>\n",
              "      <th colspan=\"2\" halign=\"left\">Grade</th>\n",
              "    </tr>\n",
              "    <tr>\n",
              "      <th></th>\n",
              "      <th>count</th>\n",
              "      <th>mean</th>\n",
              "    </tr>\n",
              "    <tr>\n",
              "      <th>Student</th>\n",
              "      <th></th>\n",
              "      <th></th>\n",
              "    </tr>\n",
              "  </thead>\n",
              "  <tbody>\n",
              "    <tr>\n",
              "      <th>Andrew</th>\n",
              "      <td>22</td>\n",
              "      <td>80.904545</td>\n",
              "    </tr>\n",
              "    <tr>\n",
              "      <th>Mark</th>\n",
              "      <td>18</td>\n",
              "      <td>81.333333</td>\n",
              "    </tr>\n",
              "    <tr>\n",
              "      <th>Rupert</th>\n",
              "      <td>18</td>\n",
              "      <td>74.900000</td>\n",
              "    </tr>\n",
              "    <tr>\n",
              "      <th>Samir</th>\n",
              "      <td>24</td>\n",
              "      <td>73.191667</td>\n",
              "    </tr>\n",
              "    <tr>\n",
              "      <th>Zoe</th>\n",
              "      <td>18</td>\n",
              "      <td>80.622222</td>\n",
              "    </tr>\n",
              "  </tbody>\n",
              "</table>\n",
              "</div>"
            ],
            "text/plain": [
              "        Grade           \n",
              "        count       mean\n",
              "Student                 \n",
              "Andrew     22  80.904545\n",
              "Mark       18  81.333333\n",
              "Rupert     18  74.900000\n",
              "Samir      24  73.191667\n",
              "Zoe        18  80.622222"
            ]
          },
          "metadata": {
            "tags": []
          },
          "execution_count": 10
        }
      ]
    },
    {
      "cell_type": "markdown",
      "metadata": {
        "id": "ugrJce_Q1myR"
      },
      "source": [
        "##Alternative Solution"
      ]
    },
    {
      "cell_type": "code",
      "metadata": {
        "id": "VOlUnzJ0zAOa",
        "outputId": "c0f16cd9-22f6-4345-8362-2316950fdd18",
        "colab": {
          "base_uri": "https://localhost:8080/",
          "height": 201
        }
      },
      "source": [
        "result = Grades_df.groupby('Student').agg([\"mean\",\"count\"]).reset_index()\n",
        "result.columns = result.columns.droplevel(0)\n",
        "result.columns = ['Student Name', 'Average Grade','Number of Grade']\n",
        "result"
      ],
      "execution_count": 11,
      "outputs": [
        {
          "output_type": "execute_result",
          "data": {
            "text/html": [
              "<div>\n",
              "<style scoped>\n",
              "    .dataframe tbody tr th:only-of-type {\n",
              "        vertical-align: middle;\n",
              "    }\n",
              "\n",
              "    .dataframe tbody tr th {\n",
              "        vertical-align: top;\n",
              "    }\n",
              "\n",
              "    .dataframe thead th {\n",
              "        text-align: right;\n",
              "    }\n",
              "</style>\n",
              "<table border=\"1\" class=\"dataframe\">\n",
              "  <thead>\n",
              "    <tr style=\"text-align: right;\">\n",
              "      <th></th>\n",
              "      <th>Student Name</th>\n",
              "      <th>Average Grade</th>\n",
              "      <th>Number of Grade</th>\n",
              "    </tr>\n",
              "  </thead>\n",
              "  <tbody>\n",
              "    <tr>\n",
              "      <th>0</th>\n",
              "      <td>Andrew</td>\n",
              "      <td>80.904545</td>\n",
              "      <td>22</td>\n",
              "    </tr>\n",
              "    <tr>\n",
              "      <th>1</th>\n",
              "      <td>Mark</td>\n",
              "      <td>81.333333</td>\n",
              "      <td>18</td>\n",
              "    </tr>\n",
              "    <tr>\n",
              "      <th>2</th>\n",
              "      <td>Rupert</td>\n",
              "      <td>74.900000</td>\n",
              "      <td>18</td>\n",
              "    </tr>\n",
              "    <tr>\n",
              "      <th>3</th>\n",
              "      <td>Samir</td>\n",
              "      <td>73.191667</td>\n",
              "      <td>24</td>\n",
              "    </tr>\n",
              "    <tr>\n",
              "      <th>4</th>\n",
              "      <td>Zoe</td>\n",
              "      <td>80.622222</td>\n",
              "      <td>18</td>\n",
              "    </tr>\n",
              "  </tbody>\n",
              "</table>\n",
              "</div>"
            ],
            "text/plain": [
              "  Student Name  Average Grade  Number of Grade\n",
              "0       Andrew      80.904545               22\n",
              "1         Mark      81.333333               18\n",
              "2       Rupert      74.900000               18\n",
              "3        Samir      73.191667               24\n",
              "4          Zoe      80.622222               18"
            ]
          },
          "metadata": {
            "tags": []
          },
          "execution_count": 11
        }
      ]
    }
  ]
}