{
  "nbformat": 4,
  "nbformat_minor": 0,
  "metadata": {
    "colab": {
      "name": "Problem3.ipynb",
      "provenance": [],
      "authorship_tag": "ABX9TyMuBO4GOiCnVcfecDdcCndu",
      "include_colab_link": true
    },
    "kernelspec": {
      "name": "python3",
      "display_name": "Python 3"
    }
  },
  "cells": [
    {
      "cell_type": "markdown",
      "metadata": {
        "id": "view-in-github",
        "colab_type": "text"
      },
      "source": [
        "<a href=\"https://colab.research.google.com/github/seansothey/NoSQL-BigData/blob/master/Problem3.ipynb\" target=\"_parent\"><img src=\"https://colab.research.google.com/assets/colab-badge.svg\" alt=\"Open In Colab\"/></a>"
      ]
    },
    {
      "cell_type": "markdown",
      "metadata": {
        "id": "ZHMIYGs82Iki"
      },
      "source": [
        "##Transform the dataset from the wide to the long format. i.e. the new table should have three columns: day, city, and temperature."
      ]
    },
    {
      "cell_type": "markdown",
      "metadata": {
        "id": "fx0Z7L1k1_2-"
      },
      "source": [
        "##Given Code"
      ]
    },
    {
      "cell_type": "code",
      "metadata": {
        "id": "YtaE5wWeYQ-S",
        "outputId": "c5ae8dfe-2b23-4379-bdaf-46c3add8baaf",
        "colab": {
          "base_uri": "https://localhost:8080/",
          "height": 354
        }
      },
      "source": [
        "import numpy as np\n",
        "import pandas as pd\n",
        "np.random.seed(seed=0)\n",
        "\n",
        "Cities = ['New York City','Philadelphia']\n",
        "Temperatures_Data = []\n",
        "Day = 1\n",
        "for i in range(100):    \n",
        "    Daily_Temperatures = [Day]\n",
        "    for City in Cities:\n",
        "        Temperature = round(np.random.normal(loc=50,scale=12),2)\n",
        "        Daily_Temperatures.append(Temperature)\n",
        "    Temperatures_Data.append(Daily_Temperatures)\n",
        "    Day += 1\n",
        "\n",
        "df_columns = ['Day']\n",
        "for City in Cities:\n",
        "    df_columns.append(City)\n",
        "\n",
        "Temperatures_Wide_df = pd.DataFrame(data=Temperatures_Data,columns=df_columns)\n",
        "Temperatures_Wide_df.iloc[0:10]"
      ],
      "execution_count": 2,
      "outputs": [
        {
          "output_type": "execute_result",
          "data": {
            "text/html": [
              "<div>\n",
              "<style scoped>\n",
              "    .dataframe tbody tr th:only-of-type {\n",
              "        vertical-align: middle;\n",
              "    }\n",
              "\n",
              "    .dataframe tbody tr th {\n",
              "        vertical-align: top;\n",
              "    }\n",
              "\n",
              "    .dataframe thead th {\n",
              "        text-align: right;\n",
              "    }\n",
              "</style>\n",
              "<table border=\"1\" class=\"dataframe\">\n",
              "  <thead>\n",
              "    <tr style=\"text-align: right;\">\n",
              "      <th></th>\n",
              "      <th>Day</th>\n",
              "      <th>New York City</th>\n",
              "      <th>Philadelphia</th>\n",
              "    </tr>\n",
              "  </thead>\n",
              "  <tbody>\n",
              "    <tr>\n",
              "      <th>0</th>\n",
              "      <td>1</td>\n",
              "      <td>71.17</td>\n",
              "      <td>54.80</td>\n",
              "    </tr>\n",
              "    <tr>\n",
              "      <th>1</th>\n",
              "      <td>2</td>\n",
              "      <td>61.74</td>\n",
              "      <td>76.89</td>\n",
              "    </tr>\n",
              "    <tr>\n",
              "      <th>2</th>\n",
              "      <td>3</td>\n",
              "      <td>72.41</td>\n",
              "      <td>38.27</td>\n",
              "    </tr>\n",
              "    <tr>\n",
              "      <th>3</th>\n",
              "      <td>4</td>\n",
              "      <td>61.40</td>\n",
              "      <td>48.18</td>\n",
              "    </tr>\n",
              "    <tr>\n",
              "      <th>4</th>\n",
              "      <td>5</td>\n",
              "      <td>48.76</td>\n",
              "      <td>54.93</td>\n",
              "    </tr>\n",
              "    <tr>\n",
              "      <th>5</th>\n",
              "      <td>6</td>\n",
              "      <td>51.73</td>\n",
              "      <td>67.45</td>\n",
              "    </tr>\n",
              "    <tr>\n",
              "      <th>6</th>\n",
              "      <td>7</td>\n",
              "      <td>59.13</td>\n",
              "      <td>51.46</td>\n",
              "    </tr>\n",
              "    <tr>\n",
              "      <th>7</th>\n",
              "      <td>8</td>\n",
              "      <td>55.33</td>\n",
              "      <td>54.00</td>\n",
              "    </tr>\n",
              "    <tr>\n",
              "      <th>8</th>\n",
              "      <td>9</td>\n",
              "      <td>67.93</td>\n",
              "      <td>47.54</td>\n",
              "    </tr>\n",
              "    <tr>\n",
              "      <th>9</th>\n",
              "      <td>10</td>\n",
              "      <td>53.76</td>\n",
              "      <td>39.75</td>\n",
              "    </tr>\n",
              "  </tbody>\n",
              "</table>\n",
              "</div>"
            ],
            "text/plain": [
              "   Day  New York City  Philadelphia\n",
              "0    1          71.17         54.80\n",
              "1    2          61.74         76.89\n",
              "2    3          72.41         38.27\n",
              "3    4          61.40         48.18\n",
              "4    5          48.76         54.93\n",
              "5    6          51.73         67.45\n",
              "6    7          59.13         51.46\n",
              "7    8          55.33         54.00\n",
              "8    9          67.93         47.54\n",
              "9   10          53.76         39.75"
            ]
          },
          "metadata": {
            "tags": []
          },
          "execution_count": 2
        }
      ]
    },
    {
      "cell_type": "markdown",
      "metadata": {
        "id": "ugrJce_Q1myR"
      },
      "source": [
        "##Solution"
      ]
    },
    {
      "cell_type": "code",
      "metadata": {
        "id": "WMl0hDIjM9MV",
        "outputId": "b7ce3f6a-9dbd-47ad-a1c4-6df4569ade15",
        "colab": {
          "base_uri": "https://localhost:8080/",
          "height": 413
        }
      },
      "source": [
        "result = Temperatures_Wide_df.melt(id_vars=[\"Day\"], \n",
        "        var_name=\"City\", \n",
        "        value_name=\"Temperature\")\n",
        "result"
      ],
      "execution_count": 9,
      "outputs": [
        {
          "output_type": "execute_result",
          "data": {
            "text/html": [
              "<div>\n",
              "<style scoped>\n",
              "    .dataframe tbody tr th:only-of-type {\n",
              "        vertical-align: middle;\n",
              "    }\n",
              "\n",
              "    .dataframe tbody tr th {\n",
              "        vertical-align: top;\n",
              "    }\n",
              "\n",
              "    .dataframe thead th {\n",
              "        text-align: right;\n",
              "    }\n",
              "</style>\n",
              "<table border=\"1\" class=\"dataframe\">\n",
              "  <thead>\n",
              "    <tr style=\"text-align: right;\">\n",
              "      <th></th>\n",
              "      <th>Day</th>\n",
              "      <th>City</th>\n",
              "      <th>Temperature</th>\n",
              "    </tr>\n",
              "  </thead>\n",
              "  <tbody>\n",
              "    <tr>\n",
              "      <th>0</th>\n",
              "      <td>1</td>\n",
              "      <td>New York City</td>\n",
              "      <td>71.17</td>\n",
              "    </tr>\n",
              "    <tr>\n",
              "      <th>1</th>\n",
              "      <td>2</td>\n",
              "      <td>New York City</td>\n",
              "      <td>61.74</td>\n",
              "    </tr>\n",
              "    <tr>\n",
              "      <th>2</th>\n",
              "      <td>3</td>\n",
              "      <td>New York City</td>\n",
              "      <td>72.41</td>\n",
              "    </tr>\n",
              "    <tr>\n",
              "      <th>3</th>\n",
              "      <td>4</td>\n",
              "      <td>New York City</td>\n",
              "      <td>61.40</td>\n",
              "    </tr>\n",
              "    <tr>\n",
              "      <th>4</th>\n",
              "      <td>5</td>\n",
              "      <td>New York City</td>\n",
              "      <td>48.76</td>\n",
              "    </tr>\n",
              "    <tr>\n",
              "      <th>...</th>\n",
              "      <td>...</td>\n",
              "      <td>...</td>\n",
              "      <td>...</td>\n",
              "    </tr>\n",
              "    <tr>\n",
              "      <th>195</th>\n",
              "      <td>96</td>\n",
              "      <td>Philadelphia</td>\n",
              "      <td>53.20</td>\n",
              "    </tr>\n",
              "    <tr>\n",
              "      <th>196</th>\n",
              "      <td>97</td>\n",
              "      <td>Philadelphia</td>\n",
              "      <td>35.98</td>\n",
              "    </tr>\n",
              "    <tr>\n",
              "      <th>197</th>\n",
              "      <td>98</td>\n",
              "      <td>Philadelphia</td>\n",
              "      <td>47.94</td>\n",
              "    </tr>\n",
              "    <tr>\n",
              "      <th>198</th>\n",
              "      <td>99</td>\n",
              "      <td>Philadelphia</td>\n",
              "      <td>59.88</td>\n",
              "    </tr>\n",
              "    <tr>\n",
              "      <th>199</th>\n",
              "      <td>100</td>\n",
              "      <td>Philadelphia</td>\n",
              "      <td>66.04</td>\n",
              "    </tr>\n",
              "  </tbody>\n",
              "</table>\n",
              "<p>200 rows × 3 columns</p>\n",
              "</div>"
            ],
            "text/plain": [
              "     Day           City  Temperature\n",
              "0      1  New York City        71.17\n",
              "1      2  New York City        61.74\n",
              "2      3  New York City        72.41\n",
              "3      4  New York City        61.40\n",
              "4      5  New York City        48.76\n",
              "..   ...            ...          ...\n",
              "195   96   Philadelphia        53.20\n",
              "196   97   Philadelphia        35.98\n",
              "197   98   Philadelphia        47.94\n",
              "198   99   Philadelphia        59.88\n",
              "199  100   Philadelphia        66.04\n",
              "\n",
              "[200 rows x 3 columns]"
            ]
          },
          "metadata": {
            "tags": []
          },
          "execution_count": 9
        }
      ]
    }
  ]
}